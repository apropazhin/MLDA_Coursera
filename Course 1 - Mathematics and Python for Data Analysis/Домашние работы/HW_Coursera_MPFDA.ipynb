{
  "nbformat": 4,
  "nbformat_minor": 0,
  "metadata": {
    "colab": {
      "name": "HW_Coursera_MPFDA.ipynb",
      "provenance": [],
      "collapsed_sections": [
        "pJnpoU3FU4wI",
        "D8DG0oqvTrVk",
        "JgpZapM5VWbd",
        "CkoVgMhSVT-T",
        "6A584-eUVmPC"
      ]
    },
    "kernelspec": {
      "name": "python3",
      "display_name": "Python 3"
    }
  },
  "cells": [
    {
      "cell_type": "markdown",
      "metadata": {
        "id": "05nlV7iHUGLP",
        "colab_type": "text"
      },
      "source": [
        "## Домашнее задание 1"
      ]
    },
    {
      "cell_type": "markdown",
      "metadata": {
        "id": "pJnpoU3FU4wI",
        "colab_type": "text"
      },
      "source": [
        "### Задача 1 - Сравнение предложений"
      ]
    },
    {
      "cell_type": "code",
      "metadata": {
        "id": "6CqGOcY5TrVA",
        "colab_type": "code",
        "colab": {}
      },
      "source": [
        "import re\n",
        "import numpy as np\n",
        "import scipy\n",
        "from scipy.spatial import distance"
      ],
      "execution_count": 0,
      "outputs": []
    },
    {
      "cell_type": "code",
      "metadata": {
        "id": "smGxMZ5qTrVE",
        "colab_type": "code",
        "colab": {}
      },
      "source": [
        "with open('sentences.txt', 'r') as f:\n",
        "    text = list(map(str.lower, f.readlines()))"
      ],
      "execution_count": 0,
      "outputs": []
    },
    {
      "cell_type": "code",
      "metadata": {
        "id": "2bf7oBQdTrVI",
        "colab_type": "code",
        "colab": {}
      },
      "source": [
        "words = []\n",
        "for sent in text:\n",
        "    w = re.split('[^a-z]', sent)\n",
        "    w = [s for s in w if len(s) > 0]\n",
        "    words += w"
      ],
      "execution_count": 0,
      "outputs": []
    },
    {
      "cell_type": "code",
      "metadata": {
        "id": "6FNYQWk1TrVL",
        "colab_type": "code",
        "outputId": "080e0f73-6b35-4b0c-d902-1154359b8789",
        "colab": {
          "base_uri": "https://localhost:8080/",
          "height": 1000
        }
      },
      "source": [
        "d = {}\n",
        "d.update(zip(np.unique(words), range(len(np.unique(words)))))\n",
        "d"
      ],
      "execution_count": 0,
      "outputs": [
        {
          "output_type": "execute_result",
          "data": {
            "text/plain": [
              "{'a': 0,\n",
              " 'according': 1,\n",
              " 'adjacent': 2,\n",
              " 'allow': 3,\n",
              " 'allows': 4,\n",
              " 'also': 5,\n",
              " 'an': 6,\n",
              " 'ancestor': 7,\n",
              " 'and': 8,\n",
              " 'animals': 9,\n",
              " 'any': 10,\n",
              " 'app': 11,\n",
              " 'apple': 12,\n",
              " 'are': 13,\n",
              " 'arguments': 14,\n",
              " 'artificial': 15,\n",
              " 'as': 16,\n",
              " 'available': 17,\n",
              " 'based': 18,\n",
              " 'basic': 19,\n",
              " 'be': 20,\n",
              " 'between': 21,\n",
              " 'binary': 22,\n",
              " 'both': 23,\n",
              " 'by': 24,\n",
              " 'bytes': 25,\n",
              " 'can': 26,\n",
              " 'cat': 27,\n",
              " 'catenates': 28,\n",
              " 'cats': 29,\n",
              " 'changes': 30,\n",
              " 'chromosomes': 31,\n",
              " 'clear': 32,\n",
              " 'closest': 33,\n",
              " 'command': 34,\n",
              " 'commands': 35,\n",
              " 'common': 36,\n",
              " 'community': 37,\n",
              " 'comparison': 38,\n",
              " 'computers': 39,\n",
              " 'concatenate': 40,\n",
              " 'concern': 41,\n",
              " 'connected': 42,\n",
              " 'contains': 43,\n",
              " 'content': 44,\n",
              " 'count': 45,\n",
              " 'create': 46,\n",
              " 'default': 47,\n",
              " 'delete': 48,\n",
              " 'deliberately': 49,\n",
              " 'developed': 50,\n",
              " 'diploid': 51,\n",
              " 'disk': 52,\n",
              " 'displays': 53,\n",
              " 'dogs': 54,\n",
              " 'domestic': 55,\n",
              " 'domesticated': 56,\n",
              " 'domestication': 57,\n",
              " 'download': 58,\n",
              " 'drive': 59,\n",
              " 'during': 60,\n",
              " 'ears': 61,\n",
              " 'editions': 62,\n",
              " 'enhancements': 63,\n",
              " 'entirely': 64,\n",
              " 'error': 65,\n",
              " 'every': 66,\n",
              " 'external': 67,\n",
              " 'factory': 68,\n",
              " 'faint': 69,\n",
              " 'features': 70,\n",
              " 'felis': 71,\n",
              " 'fifth': 72,\n",
              " 'file': 73,\n",
              " 'files': 74,\n",
              " 'firmware': 75,\n",
              " 'flow': 76,\n",
              " 'for': 77,\n",
              " 'frequency': 78,\n",
              " 'from': 79,\n",
              " 'genes': 80,\n",
              " 'genus': 81,\n",
              " 'has': 82,\n",
              " 'have': 83,\n",
              " 'hear': 84,\n",
              " 'high': 85,\n",
              " 'however': 86,\n",
              " 'human': 87,\n",
              " 'if': 88,\n",
              " 'in': 89,\n",
              " 'incremental': 90,\n",
              " 'information': 91,\n",
              " 'installation': 92,\n",
              " 'installed': 93,\n",
              " 'installs': 94,\n",
              " 'instead': 95,\n",
              " 'intel': 96,\n",
              " 'interactive': 97,\n",
              " 'is': 98,\n",
              " 'it': 99,\n",
              " 'its': 100,\n",
              " 'july': 101,\n",
              " 'just': 102,\n",
              " 'keyboards': 103,\n",
              " 'kg': 104,\n",
              " 'later': 105,\n",
              " 'lb': 106,\n",
              " 'learned': 107,\n",
              " 'left': 108,\n",
              " 'legibility': 109,\n",
              " 'leopard': 110,\n",
              " 'lines': 111,\n",
              " 'linux': 112,\n",
              " 'lion': 113,\n",
              " 'longer': 114,\n",
              " 'mac': 115,\n",
              " 'made': 116,\n",
              " 'major': 117,\n",
              " 'marks': 118,\n",
              " 'mavericks': 119,\n",
              " 'may': 120,\n",
              " 'members': 121,\n",
              " 'mice': 122,\n",
              " 'mid': 123,\n",
              " 'more': 124,\n",
              " 'most': 125,\n",
              " 'mountain': 126,\n",
              " 'moved': 127,\n",
              " 'named': 128,\n",
              " 'need': 129,\n",
              " 'needing': 130,\n",
              " 'new': 131,\n",
              " 'no': 132,\n",
              " 'non': 133,\n",
              " 'not': 134,\n",
              " 'now': 135,\n",
              " 'october': 136,\n",
              " 'of': 137,\n",
              " 'off': 138,\n",
              " 'offered': 139,\n",
              " 'often': 140,\n",
              " 'on': 141,\n",
              " 'one': 142,\n",
              " 'online': 143,\n",
              " 'or': 144,\n",
              " 'organisms': 145,\n",
              " 'os': 146,\n",
              " 'osx': 147,\n",
              " 'other': 148,\n",
              " 'output': 149,\n",
              " 'over': 150,\n",
              " 'part': 151,\n",
              " 'patch': 152,\n",
              " 'people': 153,\n",
              " 'permanently': 154,\n",
              " 'piped': 155,\n",
              " 'pipes': 156,\n",
              " 'place': 157,\n",
              " 'possess': 158,\n",
              " 'predators': 159,\n",
              " 'predecessor': 160,\n",
              " 'process': 161,\n",
              " 'processors': 162,\n",
              " 'purchase': 163,\n",
              " 'rather': 164,\n",
              " 'read': 165,\n",
              " 'received': 166,\n",
              " 'receives': 167,\n",
              " 'recent': 168,\n",
              " 'redirected': 169,\n",
              " 'redirection': 170,\n",
              " 'release': 171,\n",
              " 'released': 172,\n",
              " 'releases': 173,\n",
              " 'releasing': 174,\n",
              " 'right': 175,\n",
              " 'roughly': 176,\n",
              " 'run': 177,\n",
              " 'running': 178,\n",
              " 's': 179,\n",
              " 'safari': 180,\n",
              " 'safer': 181,\n",
              " 'second': 182,\n",
              " 'selection': 183,\n",
              " 'separate': 184,\n",
              " 'sequence': 185,\n",
              " 'similar': 186,\n",
              " 'simply': 187,\n",
              " 'since': 188,\n",
              " 'single': 189,\n",
              " 'size': 190,\n",
              " 'small': 191,\n",
              " 'so': 192,\n",
              " 'some': 193,\n",
              " 'sounds': 194,\n",
              " 'standard': 195,\n",
              " 'started': 196,\n",
              " 'starting': 197,\n",
              " 'stdin': 198,\n",
              " 'stdout': 199,\n",
              " 'store': 200,\n",
              " 'streams': 201,\n",
              " 'successor': 202,\n",
              " 'such': 203,\n",
              " 'switch': 204,\n",
              " 'symbol': 205,\n",
              " 'symbols': 206,\n",
              " 't': 207,\n",
              " 'tamed': 208,\n",
              " 'terms': 209,\n",
              " 'than': 210,\n",
              " 'that': 211,\n",
              " 'the': 212,\n",
              " 'their': 213,\n",
              " 'they': 214,\n",
              " 'those': 215,\n",
              " 'three': 216,\n",
              " 'through': 217,\n",
              " 'tiger': 218,\n",
              " 'time': 219,\n",
              " 'to': 220,\n",
              " 'too': 221,\n",
              " 'two': 222,\n",
              " 'type': 223,\n",
              " 'typically': 224,\n",
              " 'undergone': 225,\n",
              " 'unix': 226,\n",
              " 'unnecessary': 227,\n",
              " 'update': 228,\n",
              " 'upgrade': 229,\n",
              " 'use': 230,\n",
              " 'used': 231,\n",
              " 'useful': 232,\n",
              " 'using': 233,\n",
              " 'vermin': 234,\n",
              " 'version': 235,\n",
              " 'versions': 236,\n",
              " 'was': 237,\n",
              " 'weighing': 238,\n",
              " 'were': 239,\n",
              " 'when': 240,\n",
              " 'where': 241,\n",
              " 'which': 242,\n",
              " 'wild': 243,\n",
              " 'will': 244,\n",
              " 'with': 245,\n",
              " 'without': 246,\n",
              " 'won': 247,\n",
              " 'world': 248,\n",
              " 'wrong': 249,\n",
              " 'x': 250,\n",
              " 'year': 251,\n",
              " 'yosemite': 252,\n",
              " 'you': 253}"
            ]
          },
          "metadata": {
            "tags": []
          },
          "execution_count": 7
        }
      ]
    },
    {
      "cell_type": "code",
      "metadata": {
        "id": "PTVRowRGTrVR",
        "colab_type": "code",
        "outputId": "8f2671a6-f2b6-41b2-c2cb-4692a5af06af",
        "colab": {
          "base_uri": "https://localhost:8080/",
          "height": 34
        }
      },
      "source": [
        "matrix = np.zeros((len(text), len(d)))\n",
        "matrix.shape"
      ],
      "execution_count": 0,
      "outputs": [
        {
          "output_type": "execute_result",
          "data": {
            "text/plain": [
              "(22, 254)"
            ]
          },
          "metadata": {
            "tags": []
          },
          "execution_count": 13
        }
      ]
    },
    {
      "cell_type": "code",
      "metadata": {
        "id": "51nt94RQTrVW",
        "colab_type": "code",
        "colab": {}
      },
      "source": [
        "for i in range(len(text)):\n",
        "    word = re.split('[^a-z]', text[i])\n",
        "    for w in d:\n",
        "        matrix[i, d[w]] = word.count(w)"
      ],
      "execution_count": 0,
      "outputs": []
    },
    {
      "cell_type": "code",
      "metadata": {
        "id": "i5HKerQdTrVa",
        "colab_type": "code",
        "outputId": "d2dda587-552c-4d89-fc9e-7b8b22154c78",
        "colab": {
          "base_uri": "https://localhost:8080/",
          "height": 136
        }
      },
      "source": [
        "matrix"
      ],
      "execution_count": 0,
      "outputs": [
        {
          "output_type": "execute_result",
          "data": {
            "text/plain": [
              "array([[0., 0., 0., ..., 0., 0., 0.],\n",
              "       [0., 0., 0., ..., 0., 0., 0.],\n",
              "       [3., 0., 0., ..., 0., 0., 0.],\n",
              "       ...,\n",
              "       [1., 0., 0., ..., 0., 0., 0.],\n",
              "       [1., 0., 0., ..., 0., 0., 1.],\n",
              "       [1., 0., 0., ..., 0., 0., 0.]])"
            ]
          },
          "metadata": {
            "tags": []
          },
          "execution_count": 15
        }
      ]
    },
    {
      "cell_type": "code",
      "metadata": {
        "id": "pjNZvIuMTrVe",
        "colab_type": "code",
        "colab": {}
      },
      "source": [
        "with open('submission-1.txt', 'w') as fout:\n",
        "    minim = []\n",
        "    for i in range(1, len(text)):\n",
        "        dist = scipy.spatial.distance.cosine(matrix[0], matrix[i])\n",
        "        minim.append((dist, int(i)))\n",
        "        \n",
        "    m = sorted(str(x[1]) for x in sorted(minim)[:2])\n",
        "    \n",
        "    fout.write(' '.join(m))"
      ],
      "execution_count": 0,
      "outputs": []
    },
    {
      "cell_type": "markdown",
      "metadata": {
        "id": "D8DG0oqvTrVk",
        "colab_type": "text"
      },
      "source": [
        "### Задача 2 - Аппроксимация функции"
      ]
    },
    {
      "cell_type": "code",
      "metadata": {
        "id": "XM61hoEmTrVp",
        "colab_type": "code",
        "colab": {}
      },
      "source": [
        "import matplotlib.pyplot as plt\n",
        "from scipy.linalg import solve"
      ],
      "execution_count": 0,
      "outputs": []
    },
    {
      "cell_type": "code",
      "metadata": {
        "id": "_01lgK_NTrVs",
        "colab_type": "code",
        "colab": {}
      },
      "source": [
        "def f(x):\n",
        "    return np.sin(x / 5) * np.exp(x / 10) + 5 * np.exp(-x / 2)"
      ],
      "execution_count": 0,
      "outputs": []
    },
    {
      "cell_type": "code",
      "metadata": {
        "id": "x3G2BfciTrVw",
        "colab_type": "code",
        "outputId": "313a58d1-a2be-4a7a-e872-2074c7db28af",
        "colab": {
          "base_uri": "https://localhost:8080/",
          "height": 265
        }
      },
      "source": [
        "x = np.arange(1, 16, 0.1)\n",
        "plt.plot(x, f(x))\n",
        "plt.show()"
      ],
      "execution_count": 0,
      "outputs": [
        {
          "output_type": "display_data",
          "data": {
            "image/png": "[encoded data removed]",
            "text/plain": [
              "<Figure size 432x288 with 1 Axes>"
            ]
          },
          "metadata": {
            "tags": []
          }
        }
      ]
    },
    {
      "cell_type": "code",
      "metadata": {
        "id": "QDU5MhzWTrV0",
        "colab_type": "code",
        "outputId": "c9c02dc8-f646-40e9-d4ac-eec9b0c69494",
        "colab": {
          "base_uri": "https://localhost:8080/",
          "height": 68
        }
      },
      "source": [
        "A = np.array([[1, 1], [1, 15]])\n",
        "print(A)\n",
        "b = np.array([f(1), f(15)])\n",
        "print(b)"
      ],
      "execution_count": 0,
      "outputs": [
        {
          "output_type": "stream",
          "text": [
            "[[ 1  1]\n",
            " [ 1 15]]\n",
            "[3.25221687 0.63522142]\n"
          ],
          "name": "stdout"
        }
      ]
    },
    {
      "cell_type": "code",
      "metadata": {
        "id": "OmyE7RwDTrV4",
        "colab_type": "code",
        "colab": {}
      },
      "source": [
        "w = scipy.linalg.solve(A, b)"
      ],
      "execution_count": 0,
      "outputs": []
    },
    {
      "cell_type": "code",
      "metadata": {
        "id": "zLdj3ZxgTrV-",
        "colab_type": "code",
        "colab": {}
      },
      "source": [
        "def F(w, x):\n",
        "    return w @ np.array([1, x])"
      ],
      "execution_count": 0,
      "outputs": []
    },
    {
      "cell_type": "code",
      "metadata": {
        "id": "firlZOjMTrWB",
        "colab_type": "code",
        "outputId": "65e577db-90b6-4a59-c5ef-126e4ac9f9c1",
        "colab": {
          "base_uri": "https://localhost:8080/",
          "height": 265
        }
      },
      "source": [
        "x = np.arange(1, 16, 0.1)\n",
        "plt.plot(x, f(x))\n",
        "plt.plot(x, [F(w, i) for i in x])\n",
        "plt.show()"
      ],
      "execution_count": 0,
      "outputs": [
        {
          "output_type": "display_data",
          "data": {
            "image/png": "[encoded data removed]",
            "text/plain": [
              "<Figure size 432x288 with 1 Axes>"
            ]
          },
          "metadata": {
            "tags": []
          }
        }
      ]
    },
    {
      "cell_type": "code",
      "metadata": {
        "id": "dz9L1Q92TrWF",
        "colab_type": "code",
        "outputId": "4449fec3-475e-484d-8e79-146e28b20422",
        "colab": {
          "base_uri": "https://localhost:8080/",
          "height": 85
        }
      },
      "source": [
        "A = np.array([[1, 1, 1], [1, 8, 8**2],[1, 15, 15**2]])\n",
        "print(A)\n",
        "b = np.array([f(1), f(8), f(15)])\n",
        "print(b)\n",
        "w = scipy.linalg.solve(A, b)"
      ],
      "execution_count": 0,
      "outputs": [
        {
          "output_type": "stream",
          "text": [
            "[[  1   1   1]\n",
            " [  1   8  64]\n",
            " [  1  15 225]]\n",
            "[3.25221687 2.31617016 0.63522142]\n"
          ],
          "name": "stdout"
        }
      ]
    },
    {
      "cell_type": "code",
      "metadata": {
        "id": "YqQlhp5gTrWJ",
        "colab_type": "code",
        "outputId": "98059810-7a50-4276-df46-b0b95be8bb45",
        "colab": {
          "base_uri": "https://localhost:8080/",
          "height": 265
        }
      },
      "source": [
        "def F(w, x):\n",
        "    return w @ np.array([1, x, x**2])\n",
        "\n",
        "x = np.arange(1, 16, 0.1)\n",
        "plt.plot(x, f(x))\n",
        "plt.plot(x, [F(w, i) for i in x])\n",
        "plt.show()"
      ],
      "execution_count": 0,
      "outputs": [
        {
          "output_type": "display_data",
          "data": {
            "image/png": "[encoded data removed]",
            "text/plain": [
              "<Figure size 432x288 with 1 Axes>"
            ]
          },
          "metadata": {
            "tags": []
          }
        }
      ]
    },
    {
      "cell_type": "code",
      "metadata": {
        "id": "vPVDJk1iTrWM",
        "colab_type": "code",
        "outputId": "5676c99a-72ab-433b-8705-9c49da5bdf9a",
        "colab": {
          "base_uri": "https://localhost:8080/",
          "height": 102
        }
      },
      "source": [
        "A = np.array([[1, 1, 1, 1], [1, 4, 4**2, 4**3], [1, 10, 10**2, 10**3],[1, 15, 15**2, 15**3]])\n",
        "print(A)\n",
        "b = np.array([f(1), f(4), f(10), f(15)])\n",
        "print(b)\n",
        "w = scipy.linalg.solve(A, b)"
      ],
      "execution_count": 0,
      "outputs": [
        {
          "output_type": "stream",
          "text": [
            "[[   1    1    1    1]\n",
            " [   1    4   16   64]\n",
            " [   1   10  100 1000]\n",
            " [   1   15  225 3375]]\n",
            "[3.25221687 1.74684595 2.50541641 0.63522142]\n"
          ],
          "name": "stdout"
        }
      ]
    },
    {
      "cell_type": "code",
      "metadata": {
        "id": "JSxiN-nxTrWQ",
        "colab_type": "code",
        "outputId": "a9840522-9cd7-4bd9-8b8e-d33c702cb6b2",
        "colab": {
          "base_uri": "https://localhost:8080/",
          "height": 265
        }
      },
      "source": [
        "def F(w, x):\n",
        "    return w @ np.array([1, x, x**2, x**3])\n",
        "\n",
        "x = np.arange(1, 16, 0.1)\n",
        "plt.plot(x, f(x))\n",
        "plt.plot(x, [F(w, i) for i in x])\n",
        "plt.show()"
      ],
      "execution_count": 0,
      "outputs": [
        {
          "output_type": "display_data",
          "data": {
            "image/png": "[encoded data removed]",
            "text/plain": [
              "<Figure size 432x288 with 1 Axes>"
            ]
          },
          "metadata": {
            "tags": []
          }
        }
      ]
    },
    {
      "cell_type": "code",
      "metadata": {
        "id": "qEIB3Yx4TrWU",
        "colab_type": "code",
        "colab": {}
      },
      "source": [
        "with open('submission-2.txt', 'w') as fout:\n",
        "    fout.write(\" \".join(list(map(str, map(lambda x:round(x, ndigits=2),w)))))"
      ],
      "execution_count": 0,
      "outputs": []
    },
    {
      "cell_type": "code",
      "metadata": {
        "id": "YMq9A72bTrWZ",
        "colab_type": "code",
        "outputId": "bd5d179c-0030-4b94-a378-910e566e7fa1",
        "colab": {
          "base_uri": "https://localhost:8080/",
          "height": 34
        }
      },
      "source": [
        "list(map(str, map(lambda x:round(x, ndigits=2),w)))"
      ],
      "execution_count": 0,
      "outputs": [
        {
          "output_type": "execute_result",
          "data": {
            "text/plain": [
              "['4.36', '-1.3', '0.19', '-0.01']"
            ]
          },
          "metadata": {
            "tags": []
          },
          "execution_count": 29
        }
      ]
    },
    {
      "cell_type": "markdown",
      "metadata": {
        "id": "4z7l9T-pTrWd",
        "colab_type": "text"
      },
      "source": [
        "## Домашнее задание 2"
      ]
    },
    {
      "cell_type": "markdown",
      "metadata": {
        "id": "JgpZapM5VWbd",
        "colab_type": "text"
      },
      "source": [
        "### Задача 1 - Минимизация гладкой функции"
      ]
    },
    {
      "cell_type": "code",
      "metadata": {
        "id": "JPJnYsyfXW1O",
        "colab_type": "code",
        "colab": {}
      },
      "source": [
        "from scipy.optimize import minimize"
      ],
      "execution_count": 0,
      "outputs": []
    },
    {
      "cell_type": "code",
      "metadata": {
        "id": "EoqOREOBVUkj",
        "colab_type": "code",
        "colab": {}
      },
      "source": [
        "def f(x):\n",
        "    return np.sin(x / 5) * np.exp(x / 10) + 5 * np.exp(-x / 2)"
      ],
      "execution_count": 0,
      "outputs": []
    },
    {
      "cell_type": "code",
      "metadata": {
        "id": "24orrXtCX4-X",
        "colab_type": "code",
        "outputId": "5d020d55-b37d-40a2-c5fc-194e22170db0",
        "colab": {
          "base_uri": "https://localhost:8080/",
          "height": 269
        }
      },
      "source": [
        "x = np.arange(1, 30, 0.1)\n",
        "plt.plot(x, f(x))\n",
        "plt.show()"
      ],
      "execution_count": 0,
      "outputs": [
        {
          "output_type": "display_data",
          "data": {
            "image/png": "[encoded data removed]",
            "text/plain": [
              "<Figure size 432x288 with 1 Axes>"
            ]
          },
          "metadata": {
            "tags": []
          }
        }
      ]
    },
    {
      "cell_type": "code",
      "metadata": {
        "id": "FdTjX5klVUfY",
        "colab_type": "code",
        "outputId": "5713153d-68a7-4b59-b89b-7004d7be090c",
        "colab": {
          "base_uri": "https://localhost:8080/",
          "height": 357
        }
      },
      "source": [
        "min1 = scipy.optimize.minimize(f, x0=2, method='BFGS')\n",
        "min2 = scipy.optimize.minimize(f, x0=30, method='BFGS')\n",
        "print(min1)\n",
        "print(min2)"
      ],
      "execution_count": 0,
      "outputs": [
        {
          "output_type": "stream",
          "text": [
            "      fun: 1.7452682903449388\n",
            " hess_inv: array([[5.98752437]])\n",
            "      jac: array([-2.07126141e-06])\n",
            "  message: 'Optimization terminated successfully.'\n",
            "     nfev: 21\n",
            "      nit: 6\n",
            "     njev: 7\n",
            "   status: 0\n",
            "  success: True\n",
            "        x: array([4.13627618])\n",
            "      fun: -11.898894665981285\n",
            " hess_inv: array([[1.67932484]])\n",
            "      jac: array([2.38418579e-07])\n",
            "  message: 'Optimization terminated successfully.'\n",
            "     nfev: 21\n",
            "      nit: 6\n",
            "     njev: 7\n",
            "   status: 0\n",
            "  success: True\n",
            "        x: array([25.88019339])\n"
          ],
          "name": "stdout"
        }
      ]
    },
    {
      "cell_type": "code",
      "metadata": {
        "id": "B8MNKIXaVUcu",
        "colab_type": "code",
        "colab": {}
      },
      "source": [
        "with open('submission-1.txt', 'w') as f:\n",
        "  f.write(' '.join([str(round(min1.fun, 2)), str(round(min2.fun, 2))]))"
      ],
      "execution_count": 0,
      "outputs": []
    },
    {
      "cell_type": "code",
      "metadata": {
        "id": "oVIhbQrYVUQd",
        "colab_type": "code",
        "colab": {}
      },
      "source": [
        ""
      ],
      "execution_count": 0,
      "outputs": []
    },
    {
      "cell_type": "markdown",
      "metadata": {
        "id": "CkoVgMhSVT-T",
        "colab_type": "text"
      },
      "source": [
        "### Задача 2 - Глобальная оптимизация"
      ]
    },
    {
      "cell_type": "code",
      "metadata": {
        "id": "kIyh1p6ZVj1m",
        "colab_type": "code",
        "colab": {}
      },
      "source": [
        "from scipy.optimize import differential_evolution"
      ],
      "execution_count": 0,
      "outputs": []
    },
    {
      "cell_type": "code",
      "metadata": {
        "id": "2oVbLczqbuJl",
        "colab_type": "code",
        "colab": {}
      },
      "source": [
        "def f(x):\n",
        "    return np.sin(x[0] / 5) * np.exp(x[0] / 10) + 5 * np.exp(-x[0] / 2)"
      ],
      "execution_count": 0,
      "outputs": []
    },
    {
      "cell_type": "code",
      "metadata": {
        "id": "UAnEvA9WVlRi",
        "colab_type": "code",
        "outputId": "37b0be39-e564-4940-ab03-72d12e5b77e3",
        "colab": {
          "base_uri": "https://localhost:8080/",
          "height": 136
        }
      },
      "source": [
        "evol = scipy.optimize.differential_evolution(f, bounds=[(1, 30)])\n",
        "evol"
      ],
      "execution_count": 0,
      "outputs": [
        {
          "output_type": "execute_result",
          "data": {
            "text/plain": [
              "     fun: -11.898894665974838\n",
              "     jac: array([-2.84217094e-06])\n",
              " message: 'Optimization terminated successfully.'\n",
              "    nfev: 98\n",
              "     nit: 5\n",
              " success: True\n",
              "       x: array([25.88018836])"
            ]
          },
          "metadata": {
            "tags": []
          },
          "execution_count": 66
        }
      ]
    },
    {
      "cell_type": "code",
      "metadata": {
        "id": "xhE2CGNMVlMt",
        "colab_type": "code",
        "colab": {}
      },
      "source": [
        "with open('submission-2.txt', 'w') as fout:\n",
        "    fout.write(str(round(evol.fun, 2)))"
      ],
      "execution_count": 0,
      "outputs": []
    },
    {
      "cell_type": "code",
      "metadata": {
        "id": "qIlzgnIGVlDR",
        "colab_type": "code",
        "colab": {}
      },
      "source": [
        ""
      ],
      "execution_count": 0,
      "outputs": []
    },
    {
      "cell_type": "markdown",
      "metadata": {
        "id": "6A584-eUVmPC",
        "colab_type": "text"
      },
      "source": [
        "### Задача 3 - Минимизация негладкой функции"
      ]
    },
    {
      "cell_type": "code",
      "metadata": {
        "id": "9DAcw2lHc2aV",
        "colab_type": "code",
        "colab": {}
      },
      "source": [
        "def f(x):\n",
        "  return np.sin(x / 5) * np.exp(x / 10) + 5 * np.exp(-x / 2)\n",
        "\n",
        "def h(x):\n",
        "  return int(f(x))"
      ],
      "execution_count": 0,
      "outputs": []
    },
    {
      "cell_type": "code",
      "metadata": {
        "id": "9it-XmqHc5zk",
        "colab_type": "code",
        "outputId": "5d6d55bf-845e-4bfe-a02d-943786d9e3c3",
        "colab": {
          "base_uri": "https://localhost:8080/",
          "height": 265
        }
      },
      "source": [
        "x = np.arange(1, 30, 0.1)\n",
        "plt.plot(x, list(map(int, f(x))))\n",
        "plt.show()"
      ],
      "execution_count": 0,
      "outputs": [
        {
          "output_type": "display_data",
          "data": {
            "image/png": "[encoded data removed]",
            "text/plain": [
              "<Figure size 432x288 with 1 Axes>"
            ]
          },
          "metadata": {
            "tags": []
          }
        }
      ]
    },
    {
      "cell_type": "code",
      "metadata": {
        "id": "7Ez1QiG7c-qQ",
        "colab_type": "code",
        "outputId": "9136eac1-1a83-47df-8291-a332594c7ddd",
        "colab": {
          "base_uri": "https://localhost:8080/",
          "height": 187
        }
      },
      "source": [
        "min1 = scipy.optimize.minimize(h, x0=30, method='BFGS')\n",
        "min1"
      ],
      "execution_count": 0,
      "outputs": [
        {
          "output_type": "execute_result",
          "data": {
            "text/plain": [
              "      fun: -5\n",
              " hess_inv: array([[1]])\n",
              "      jac: array([0.])\n",
              "  message: 'Optimization terminated successfully.'\n",
              "     nfev: 3\n",
              "      nit: 0\n",
              "     njev: 1\n",
              "   status: 0\n",
              "  success: True\n",
              "        x: array([30.])"
            ]
          },
          "metadata": {
            "tags": []
          },
          "execution_count": 87
        }
      ]
    },
    {
      "cell_type": "code",
      "metadata": {
        "id": "nLIbQ7iDd39W",
        "colab_type": "code",
        "outputId": "7a786986-6edc-4516-de08-f8156ba83072",
        "colab": {
          "base_uri": "https://localhost:8080/",
          "height": 119
        }
      },
      "source": [
        "min2 = scipy.optimize.differential_evolution(h, bounds=[(1, 30)])\n",
        "min2"
      ],
      "execution_count": 0,
      "outputs": [
        {
          "output_type": "execute_result",
          "data": {
            "text/plain": [
              "     fun: -11.0\n",
              " message: 'Optimization terminated successfully.'\n",
              "    nfev: 92\n",
              "     nit: 5\n",
              " success: True\n",
              "       x: array([24.94236066])"
            ]
          },
          "metadata": {
            "tags": []
          },
          "execution_count": 89
        }
      ]
    },
    {
      "cell_type": "code",
      "metadata": {
        "id": "4qOhZDxAehI4",
        "colab_type": "code",
        "colab": {}
      },
      "source": [
        "with open('submission-3.txt', 'w') as f:\n",
        "  f.write(' '.join([str(round(min1.fun, 2)), str(round(min2.fun, 2))]))"
      ],
      "execution_count": 0,
      "outputs": []
    },
    {
      "cell_type": "code",
      "metadata": {
        "id": "OXj1NfKoeujF",
        "colab_type": "code",
        "colab": {}
      },
      "source": [
        ""
      ],
      "execution_count": 0,
      "outputs": []
    },
    {
      "cell_type": "markdown",
      "metadata": {
        "id": "c0nayS4_IPqz",
        "colab_type": "text"
      },
      "source": [
        "## Домашнее задание 3"
      ]
    },
    {
      "cell_type": "code",
      "metadata": {
        "id": "D6s5a2wzIOhl",
        "colab_type": "code",
        "colab": {}
      },
      "source": [
        "import pandas as pd\n",
        "import numpy as np\n",
        "import matplotlib.pyplot as plt\n",
        "import scipy.stats as sts\n",
        "\n",
        "from statsmodels.distributions.empirical_distribution import ECDF\n",
        "%matplotlib inline\n",
        "plt.style.use('ggplot')"
      ],
      "execution_count": 0,
      "outputs": []
    },
    {
      "cell_type": "code",
      "metadata": {
        "id": "cmEAG-XjITgF",
        "colab_type": "code",
        "colab": {}
      },
      "source": [
        "# Возьмем хи-квадрат распределение с параметром k=3\n",
        "chi_rv = sts.chi2(3)\n",
        "sample = chi_rv.rvs(1000)"
      ],
      "execution_count": 0,
      "outputs": []
    },
    {
      "cell_type": "code",
      "metadata": {
        "id": "zmwEATaCITbL",
        "colab_type": "code",
        "outputId": "84c1023b-f3e3-4298-fcef-36ba0fa6fa28",
        "colab": {
          "base_uri": "https://localhost:8080/",
          "height": 280
        }
      },
      "source": [
        "x = np.linspace(0,max(sample)+1,1000)\n",
        "pdf = chi_rv.pdf(x)\n",
        "# нарисуем гистограмму распределения выборки\n",
        "plt.hist(sample, label='hist', density=True)\n",
        "# нарисуем поверх функцию плотности распрделения\n",
        "plt.plot(x, pdf, label='theoretical PDF')\n",
        "plt.ylabel('$fraction of samples$')\n",
        "plt.xlabel('$x$')\n",
        "plt.legend()\n",
        "plt.show()"
      ],
      "execution_count": 0,
      "outputs": [
        {
          "output_type": "display_data",
          "data": {
            "image/png": "[encoded data removed]",
            "text/plain": [
              "<Figure size 432x288 with 1 Axes>"
            ]
          },
          "metadata": {
            "tags": []
          }
        }
      ]
    },
    {
      "cell_type": "code",
      "metadata": {
        "id": "rocZlcOnITZz",
        "colab_type": "code",
        "outputId": "acd29a78-6a3c-4335-fc23-c086f5593c64",
        "colab": {
          "base_uri": "https://localhost:8080/",
          "height": 337
        }
      },
      "source": [
        "# создадим 4 подграфика\n",
        "fig, axes = plt.subplots(1, 4, figsize=(20,5), sharey=True)\n",
        "sizes = [5, 10, 50, 100] # размеры выборок\n",
        "colors = ['blue', 'green', 'orange', 'purple'] # цвета\n",
        "for i in range(len(sizes)):\n",
        "  means = [] # создадим список, в который будем сохранять выборочные средние \n",
        "  for _ in range(1000):\n",
        "    sample = chi_rv.rvs(sizes[i]) # генерируем выборку\n",
        "    means.append(sum(sample)/sizes[i]) # считаем выборочное среднее\n",
        "  # зададим нормальное распределение для выборки данного размера\n",
        "  # согласно википедии: мат.ожидание = k, т.е. 3, а дисперсия 2*k, т.е. 6\n",
        "  # также делим дисперсию на размер выборки и извлекаем из нее квадратный корень\n",
        "  norm_rv = sts.norm(3, np.sqrt(2*3/sizes[i])) \n",
        "  x = np.linspace(0,max(means)+1,1000)\n",
        "  pdf = norm_rv.pdf(x) # зададим теоретическую функцию плотности распределения\n",
        "  # строим графики\n",
        "  axes[i].plot(x, pdf, label='theoretical PDF') \n",
        "  axes[i].hist(means, label='hist'+str(sizes[i]), density=True, color=colors[i])\n",
        "  axes[i].legend(loc='upper left')\n",
        "  axes[i].set_ylabel('$fraction of samples$')\n",
        "  axes[i].set_xlabel('$x$')\n",
        "plt.show()"
      ],
      "execution_count": 0,
      "outputs": [
        {
          "output_type": "display_data",
          "data": {
            "image/png": "[encoded data removed]",
            "text/plain": [
              "<Figure size 1440x360 with 4 Axes>"
            ]
          },
          "metadata": {
            "tags": []
          }
        }
      ]
    },
    {
      "cell_type": "markdown",
      "metadata": {
        "id": "xq6Dm5JHbSzq",
        "colab_type": "text"
      },
      "source": [
        "### Результаты\n",
        "В начале при увеличении n аппроксимация становится лучше, а приближение точнее. Это видно из графиков 1, 2 и 3.\n",
        "Затем с ростом n график начинает вытягиваться вверх, и при этом изменения в точности приближения становятся менее заметными (графики 3 и 4).\n"
      ]
    },
    {
      "cell_type": "code",
      "metadata": {
        "id": "GNzAXDC3NOdI",
        "colab_type": "code",
        "colab": {}
      },
      "source": [
        ""
      ],
      "execution_count": 0,
      "outputs": []
    }
  ]
}